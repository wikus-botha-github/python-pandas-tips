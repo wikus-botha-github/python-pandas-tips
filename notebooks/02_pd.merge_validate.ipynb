{
  "cells": [
    {
      "cell_type": "markdown",
      "metadata": {
        "application/vnd.databricks.v1+cell": {
          "cellMetadata": {
            "byteLimit": 2048000,
            "rowLimit": 10000
          },
          "inputWidgets": {},
          "nuid": "a0846975-7795-4599-a864-462868b9f3e4",
          "showTitle": false,
          "title": ""
        }
      },
      "source": [
        "# 🐍 Python + Pandas 🐼\n",
        "\n",
        "#### Utilizing the Validate Parameter in the Pandas Merge Function"
      ]
    },
    {
      "cell_type": "markdown",
      "metadata": {
        "application/vnd.databricks.v1+cell": {
          "cellMetadata": {
            "byteLimit": 2048000,
            "rowLimit": 10000
          },
          "inputWidgets": {},
          "nuid": "7d781190-4acd-401d-91ab-29a2a1029670",
          "showTitle": false,
          "title": ""
        }
      },
      "source": [
        "When merging DataFrames in Python, it’s often useful to know which DataFrame the merged data comes from."
      ]
    },
    {
      "cell_type": "code",
      "execution_count": 0,
      "metadata": {
        "application/vnd.databricks.v1+cell": {
          "cellMetadata": {
            "byteLimit": 2048000,
            "rowLimit": 10000
          },
          "inputWidgets": {},
          "nuid": "052288b3-6f50-4bab-996c-06ea020f7193",
          "showTitle": false,
          "title": "Import pandas library"
        }
      },
      "outputs": [
        {
          "output_type": "display_data",
          "data": {
            "text/html": [
              "<style scoped>\n",
              "  .ansiout {\n",
              "    display: block;\n",
              "    unicode-bidi: embed;\n",
              "    white-space: pre-wrap;\n",
              "    word-wrap: break-word;\n",
              "    word-break: break-all;\n",
              "    font-family: \"Menlo\", \"Monaco\", \"Consolas\", \"Ubuntu Mono\", \"Source Code Pro\", monospace;\n",
              "    font-size: 13px;\n",
              "    color: #555;\n",
              "    margin-left: 4px;\n",
              "    line-height: 19px;\n",
              "  }\n",
              "</style>\n",
              "<div class=\"ansiout\"></div>"
            ]
          },
          "metadata": {
            "application/vnd.databricks.v1+output": {
              "addedWidgets": {},
              "arguments": {},
              "data": "<div class=\"ansiout\"></div>",
              "datasetInfos": [],
              "metadata": {},
              "removedWidgets": [],
              "type": "html"
            }
          }
        }
      ],
      "source": [
        "import pandas as pd"
      ]
    },
    {
      "cell_type": "code",
      "execution_count": 0,
      "metadata": {
        "application/vnd.databricks.v1+cell": {
          "cellMetadata": {
            "byteLimit": 2048000,
            "rowLimit": 10000
          },
          "inputWidgets": {},
          "nuid": "416916e2-554a-4024-8114-7bcabe173696",
          "showTitle": false,
          "title": ""
        }
      },
      "outputs": [
        {
          "output_type": "display_data",
          "data": {
            "text/html": [
              "<style scoped>\n",
              "  .ansiout {\n",
              "    display: block;\n",
              "    unicode-bidi: embed;\n",
              "    white-space: pre-wrap;\n",
              "    word-wrap: break-word;\n",
              "    word-break: break-all;\n",
              "    font-family: \"Menlo\", \"Monaco\", \"Consolas\", \"Ubuntu Mono\", \"Source Code Pro\", monospace;\n",
              "    font-size: 13px;\n",
              "    color: #555;\n",
              "    margin-left: 4px;\n",
              "    line-height: 19px;\n",
              "  }\n",
              "</style>\n",
              "<div class=\"ansiout\"></div>"
            ]
          },
          "metadata": {
            "application/vnd.databricks.v1+output": {
              "addedWidgets": {},
              "arguments": {},
              "data": "<div class=\"ansiout\"></div>",
              "datasetInfos": [],
              "metadata": {},
              "removedWidgets": [],
              "type": "html"
            }
          }
        }
      ],
      "source": [
        "person_df = [\n",
        "    {\"PersonID\": 1, \"Name\": \"Wikus\"},\n",
        "    {\"PersonID\": 2, \"Name\": \"Thandi\"},\n",
        "    {\"PersonID\": 3, \"Name\": \"Xeki\"}\n",
        "]\n",
        "\n",
        "person_df = pd.DataFrame(person_df)"
      ]
    },
    {
      "cell_type": "code",
      "execution_count": 0,
      "metadata": {
        "application/vnd.databricks.v1+cell": {
          "cellMetadata": {
            "byteLimit": 2048000,
            "rowLimit": 10000
          },
          "inputWidgets": {},
          "nuid": "0a3b4312-2896-4d24-bff2-347edf7c4470",
          "showTitle": false,
          "title": ""
        }
      },
      "outputs": [
        {
          "output_type": "display_data",
          "data": {
            "text/html": [
              "<style scoped>\n",
              "  .ansiout {\n",
              "    display: block;\n",
              "    unicode-bidi: embed;\n",
              "    white-space: pre-wrap;\n",
              "    word-wrap: break-word;\n",
              "    word-break: break-all;\n",
              "    font-family: \"Menlo\", \"Monaco\", \"Consolas\", \"Ubuntu Mono\", \"Source Code Pro\", monospace;\n",
              "    font-size: 13px;\n",
              "    color: #555;\n",
              "    margin-left: 4px;\n",
              "    line-height: 19px;\n",
              "  }\n",
              "</style>\n",
              "<div class=\"ansiout\"></div>"
            ]
          },
          "metadata": {
            "application/vnd.databricks.v1+output": {
              "addedWidgets": {},
              "arguments": {},
              "data": "<div class=\"ansiout\"></div>",
              "datasetInfos": [],
              "metadata": {},
              "removedWidgets": [],
              "type": "html"
            }
          }
        }
      ],
      "source": [
        "purchase_df = {\n",
        "    'PersonID': [3, 3, 4],\n",
        "    'Item': ['Egg', 'Potato', 'Petrol'],\n",
        "    'Quantity': [5, 10, 15],\n",
        "    'Price': [10.50, 29.99, 5.50]\n",
        "}\n",
        "\n",
        "purchase_df = pd.DataFrame(purchase_df)"
      ]
    },
    {
      "cell_type": "markdown",
      "metadata": {
        "application/vnd.databricks.v1+cell": {
          "cellMetadata": {
            "byteLimit": 2048000,
            "rowLimit": 10000
          },
          "inputWidgets": {},
          "nuid": "be6b254d-30c4-4a77-9b5d-29da5505f0f1",
          "showTitle": false,
          "title": ""
        }
      },
      "source": [
        "Notice the error message produced due to the validate rule not being met."
      ]
    },
    {
      "cell_type": "code",
      "execution_count": 0,
      "metadata": {
        "application/vnd.databricks.v1+cell": {
          "cellMetadata": {
            "byteLimit": 2048000,
            "rowLimit": 10000
          },
          "inputWidgets": {},
          "nuid": "cda7aac0-92d4-455e-a76a-a6889aa8d607",
          "showTitle": false,
          "title": ""
        }
      },
      "outputs": [
        {
          "output_type": "display_data",
          "data": {
            "text/html": [
              "<style scoped>\n",
              "  .ansiout {\n",
              "    display: block;\n",
              "    unicode-bidi: embed;\n",
              "    white-space: pre-wrap;\n",
              "    word-wrap: break-word;\n",
              "    word-break: break-all;\n",
              "    font-family: \"Menlo\", \"Monaco\", \"Consolas\", \"Ubuntu Mono\", \"Source Code Pro\", monospace;\n",
              "    font-size: 13px;\n",
              "    color: #555;\n",
              "    margin-left: 4px;\n",
              "    line-height: 19px;\n",
              "  }\n",
              "</style>\n",
              "<div class=\"ansiout\"></div>"
            ]
          },
          "metadata": {
            "application/vnd.databricks.v1+output": {
              "addedWidgets": {},
              "arguments": {},
              "data": "<div class=\"ansiout\"></div>",
              "datasetInfos": [],
              "metadata": {},
              "removedWidgets": [],
              "type": "html"
            }
          }
        },
        {
          "output_type": "display_data",
          "data": {
            "text/html": [
              "<style scoped>\n",
              "  .ansiout {\n",
              "    display: block;\n",
              "    unicode-bidi: embed;\n",
              "    white-space: pre-wrap;\n",
              "    word-wrap: break-word;\n",
              "    word-break: break-all;\n",
              "    font-family: \"Menlo\", \"Monaco\", \"Consolas\", \"Ubuntu Mono\", \"Source Code Pro\", monospace;\n",
              "    font-size: 13px;\n",
              "    color: #555;\n",
              "    margin-left: 4px;\n",
              "    line-height: 19px;\n",
              "  }\n",
              "</style>\n",
              "<div class=\"ansiout\"><span class=\"ansi-red-fg\">---------------------------------------------------------------------------</span>\n",
              "<span class=\"ansi-red-fg\">MergeError</span>                                Traceback (most recent call last)\n",
              "<span class=\"ansi-green-fg\">&lt;command-1489911474611666&gt;</span> in <span class=\"ansi-cyan-fg\">&lt;module&gt;</span>\n",
              "<span class=\"ansi-green-fg\">----&gt; 1</span><span class=\"ansi-red-fg\"> final_df = pd.merge(\n",
              "</span><span class=\"ansi-green-intense-fg ansi-bold\">      2</span>     person_df<span class=\"ansi-blue-fg\">,</span>\n",
              "<span class=\"ansi-green-intense-fg ansi-bold\">      3</span>     purchase_df<span class=\"ansi-blue-fg\">,</span>\n",
              "<span class=\"ansi-green-intense-fg ansi-bold\">      4</span>     on <span class=\"ansi-blue-fg\">=</span> <span class=\"ansi-blue-fg\">&#34;PersonID&#34;</span><span class=\"ansi-blue-fg\">,</span>\n",
              "<span class=\"ansi-green-intense-fg ansi-bold\">      5</span>     how <span class=\"ansi-blue-fg\">=</span> <span class=\"ansi-blue-fg\">&#34;outer&#34;</span><span class=\"ansi-blue-fg\">,</span>\n",
              "\n",
              "<span class=\"ansi-green-fg\">/databricks/python/lib/python3.8/site-packages/pandas/core/reshape/merge.py</span> in <span class=\"ansi-cyan-fg\">merge</span><span class=\"ansi-blue-fg\">(left, right, how, on, left_on, right_on, left_index, right_index, sort, suffixes, copy, indicator, validate)</span>\n",
              "<span class=\"ansi-green-intense-fg ansi-bold\">     72</span>     validate<span class=\"ansi-blue-fg\">=</span><span class=\"ansi-green-fg\">None</span><span class=\"ansi-blue-fg\">,</span>\n",
              "<span class=\"ansi-green-intense-fg ansi-bold\">     73</span> ) -&gt; &#34;DataFrame&#34;:\n",
              "<span class=\"ansi-green-fg\">---&gt; 74</span><span class=\"ansi-red-fg\">     op = _MergeOperation(\n",
              "</span><span class=\"ansi-green-intense-fg ansi-bold\">     75</span>         left<span class=\"ansi-blue-fg\">,</span>\n",
              "<span class=\"ansi-green-intense-fg ansi-bold\">     76</span>         right<span class=\"ansi-blue-fg\">,</span>\n",
              "\n",
              "<span class=\"ansi-green-fg\">/databricks/python/lib/python3.8/site-packages/pandas/core/reshape/merge.py</span> in <span class=\"ansi-cyan-fg\">__init__</span><span class=\"ansi-blue-fg\">(self, left, right, how, on, left_on, right_on, axis, left_index, right_index, sort, suffixes, copy, indicator, validate)</span>\n",
              "<span class=\"ansi-green-intense-fg ansi-bold\">    676</span>         <span class=\"ansi-red-fg\"># are in fact unique.</span>\n",
              "<span class=\"ansi-green-intense-fg ansi-bold\">    677</span>         <span class=\"ansi-green-fg\">if</span> validate <span class=\"ansi-green-fg\">is</span> <span class=\"ansi-green-fg\">not</span> <span class=\"ansi-green-fg\">None</span><span class=\"ansi-blue-fg\">:</span>\n",
              "<span class=\"ansi-green-fg\">--&gt; 678</span><span class=\"ansi-red-fg\">             </span>self<span class=\"ansi-blue-fg\">.</span>_validate<span class=\"ansi-blue-fg\">(</span>validate<span class=\"ansi-blue-fg\">)</span>\n",
              "<span class=\"ansi-green-intense-fg ansi-bold\">    679</span> \n",
              "<span class=\"ansi-green-intense-fg ansi-bold\">    680</span>     <span class=\"ansi-green-fg\">def</span> get_result<span class=\"ansi-blue-fg\">(</span>self<span class=\"ansi-blue-fg\">)</span><span class=\"ansi-blue-fg\">:</span>\n",
              "\n",
              "<span class=\"ansi-green-fg\">/databricks/python/lib/python3.8/site-packages/pandas/core/reshape/merge.py</span> in <span class=\"ansi-cyan-fg\">_validate</span><span class=\"ansi-blue-fg\">(self, validate)</span>\n",
              "<span class=\"ansi-green-intense-fg ansi-bold\">   1364</span>                 )\n",
              "<span class=\"ansi-green-intense-fg ansi-bold\">   1365</span>             <span class=\"ansi-green-fg\">elif</span> <span class=\"ansi-green-fg\">not</span> right_unique<span class=\"ansi-blue-fg\">:</span>\n",
              "<span class=\"ansi-green-fg\">-&gt; 1366</span><span class=\"ansi-red-fg\">                 raise MergeError(\n",
              "</span><span class=\"ansi-green-intense-fg ansi-bold\">   1367</span>                     <span class=\"ansi-blue-fg\">&#34;Merge keys are not unique in right dataset; not a one-to-one merge&#34;</span>\n",
              "<span class=\"ansi-green-intense-fg ansi-bold\">   1368</span>                 )\n",
              "\n",
              "<span class=\"ansi-red-fg\">MergeError</span>: Merge keys are not unique in right dataset; not a one-to-one merge</div>"
            ]
          },
          "metadata": {
            "application/vnd.databricks.v1+output": {
              "arguments": {},
              "data": "<div class=\"ansiout\"><span class=\"ansi-red-fg\">---------------------------------------------------------------------------</span>\n<span class=\"ansi-red-fg\">MergeError</span>                                Traceback (most recent call last)\n<span class=\"ansi-green-fg\">&lt;command-1489911474611666&gt;</span> in <span class=\"ansi-cyan-fg\">&lt;module&gt;</span>\n<span class=\"ansi-green-fg\">----&gt; 1</span><span class=\"ansi-red-fg\"> final_df = pd.merge(\n</span><span class=\"ansi-green-intense-fg ansi-bold\">      2</span>     person_df<span class=\"ansi-blue-fg\">,</span>\n<span class=\"ansi-green-intense-fg ansi-bold\">      3</span>     purchase_df<span class=\"ansi-blue-fg\">,</span>\n<span class=\"ansi-green-intense-fg ansi-bold\">      4</span>     on <span class=\"ansi-blue-fg\">=</span> <span class=\"ansi-blue-fg\">&#34;PersonID&#34;</span><span class=\"ansi-blue-fg\">,</span>\n<span class=\"ansi-green-intense-fg ansi-bold\">      5</span>     how <span class=\"ansi-blue-fg\">=</span> <span class=\"ansi-blue-fg\">&#34;outer&#34;</span><span class=\"ansi-blue-fg\">,</span>\n\n<span class=\"ansi-green-fg\">/databricks/python/lib/python3.8/site-packages/pandas/core/reshape/merge.py</span> in <span class=\"ansi-cyan-fg\">merge</span><span class=\"ansi-blue-fg\">(left, right, how, on, left_on, right_on, left_index, right_index, sort, suffixes, copy, indicator, validate)</span>\n<span class=\"ansi-green-intense-fg ansi-bold\">     72</span>     validate<span class=\"ansi-blue-fg\">=</span><span class=\"ansi-green-fg\">None</span><span class=\"ansi-blue-fg\">,</span>\n<span class=\"ansi-green-intense-fg ansi-bold\">     73</span> ) -&gt; &#34;DataFrame&#34;:\n<span class=\"ansi-green-fg\">---&gt; 74</span><span class=\"ansi-red-fg\">     op = _MergeOperation(\n</span><span class=\"ansi-green-intense-fg ansi-bold\">     75</span>         left<span class=\"ansi-blue-fg\">,</span>\n<span class=\"ansi-green-intense-fg ansi-bold\">     76</span>         right<span class=\"ansi-blue-fg\">,</span>\n\n<span class=\"ansi-green-fg\">/databricks/python/lib/python3.8/site-packages/pandas/core/reshape/merge.py</span> in <span class=\"ansi-cyan-fg\">__init__</span><span class=\"ansi-blue-fg\">(self, left, right, how, on, left_on, right_on, axis, left_index, right_index, sort, suffixes, copy, indicator, validate)</span>\n<span class=\"ansi-green-intense-fg ansi-bold\">    676</span>         <span class=\"ansi-red-fg\"># are in fact unique.</span>\n<span class=\"ansi-green-intense-fg ansi-bold\">    677</span>         <span class=\"ansi-green-fg\">if</span> validate <span class=\"ansi-green-fg\">is</span> <span class=\"ansi-green-fg\">not</span> <span class=\"ansi-green-fg\">None</span><span class=\"ansi-blue-fg\">:</span>\n<span class=\"ansi-green-fg\">--&gt; 678</span><span class=\"ansi-red-fg\">             </span>self<span class=\"ansi-blue-fg\">.</span>_validate<span class=\"ansi-blue-fg\">(</span>validate<span class=\"ansi-blue-fg\">)</span>\n<span class=\"ansi-green-intense-fg ansi-bold\">    679</span> \n<span class=\"ansi-green-intense-fg ansi-bold\">    680</span>     <span class=\"ansi-green-fg\">def</span> get_result<span class=\"ansi-blue-fg\">(</span>self<span class=\"ansi-blue-fg\">)</span><span class=\"ansi-blue-fg\">:</span>\n\n<span class=\"ansi-green-fg\">/databricks/python/lib/python3.8/site-packages/pandas/core/reshape/merge.py</span> in <span class=\"ansi-cyan-fg\">_validate</span><span class=\"ansi-blue-fg\">(self, validate)</span>\n<span class=\"ansi-green-intense-fg ansi-bold\">   1364</span>                 )\n<span class=\"ansi-green-intense-fg ansi-bold\">   1365</span>             <span class=\"ansi-green-fg\">elif</span> <span class=\"ansi-green-fg\">not</span> right_unique<span class=\"ansi-blue-fg\">:</span>\n<span class=\"ansi-green-fg\">-&gt; 1366</span><span class=\"ansi-red-fg\">                 raise MergeError(\n</span><span class=\"ansi-green-intense-fg ansi-bold\">   1367</span>                     <span class=\"ansi-blue-fg\">&#34;Merge keys are not unique in right dataset; not a one-to-one merge&#34;</span>\n<span class=\"ansi-green-intense-fg ansi-bold\">   1368</span>                 )\n\n<span class=\"ansi-red-fg\">MergeError</span>: Merge keys are not unique in right dataset; not a one-to-one merge</div>",
              "errorSummary": "<span class=\"ansi-red-fg\">MergeError</span>: Merge keys are not unique in right dataset; not a one-to-one merge",
              "errorTraceType": "html",
              "metadata": {},
              "type": "ipynbError"
            }
          }
        }
      ],
      "source": [
        "final_df = pd.merge(\n",
        "    person_df,\n",
        "    purchase_df,\n",
        "    on = \"PersonID\",\n",
        "    how = \"outer\",\n",
        "    indicator = True,\n",
        "    validate='1:1',\n",
        ")"
      ]
    },
    {
      "cell_type": "markdown",
      "metadata": {
        "application/vnd.databricks.v1+cell": {
          "cellMetadata": {},
          "inputWidgets": {},
          "nuid": "fddf019c-2d68-436a-920e-1c9e9d1aaf6a",
          "showTitle": false,
          "title": ""
        }
      },
      "source": [
        "Validate rule being met."
      ]
    },
    {
      "cell_type": "code",
      "execution_count": 0,
      "metadata": {
        "application/vnd.databricks.v1+cell": {
          "cellMetadata": {
            "byteLimit": 2048000,
            "rowLimit": 10000
          },
          "inputWidgets": {},
          "nuid": "5ed6454e-66b6-4f20-9a1d-737dd519cc00",
          "showTitle": false,
          "title": ""
        }
      },
      "outputs": [
        {
          "output_type": "display_data",
          "data": {
            "text/html": [
              "<style scoped>\n",
              "  .ansiout {\n",
              "    display: block;\n",
              "    unicode-bidi: embed;\n",
              "    white-space: pre-wrap;\n",
              "    word-wrap: break-word;\n",
              "    word-break: break-all;\n",
              "    font-family: \"Menlo\", \"Monaco\", \"Consolas\", \"Ubuntu Mono\", \"Source Code Pro\", monospace;\n",
              "    font-size: 13px;\n",
              "    color: #555;\n",
              "    margin-left: 4px;\n",
              "    line-height: 19px;\n",
              "  }\n",
              "</style>\n",
              "<div class=\"ansiout\"></div>"
            ]
          },
          "metadata": {
            "application/vnd.databricks.v1+output": {
              "addedWidgets": {},
              "arguments": {},
              "data": "<div class=\"ansiout\"></div>",
              "datasetInfos": [],
              "metadata": {},
              "removedWidgets": [],
              "type": "html"
            }
          }
        }
      ],
      "source": [
        "final_df = pd.merge(\n",
        "    person_df,\n",
        "    purchase_df,\n",
        "    on = \"PersonID\",\n",
        "    how = \"outer\",\n",
        "    indicator = True,\n",
        "    validate='1:m',\n",
        ")"
      ]
    },
    {
      "cell_type": "code",
      "execution_count": 0,
      "metadata": {
        "application/vnd.databricks.v1+cell": {
          "cellMetadata": {
            "byteLimit": 2048000,
            "rowLimit": 10000
          },
          "inputWidgets": {},
          "nuid": "45f813ae-e794-4861-bc7e-5dbd847fa522",
          "showTitle": false,
          "title": ""
        }
      },
      "outputs": [
        {
          "output_type": "display_data",
          "data": {
            "text/html": [
              "<style scoped>\n",
              "  .ansiout {\n",
              "    display: block;\n",
              "    unicode-bidi: embed;\n",
              "    white-space: pre-wrap;\n",
              "    word-wrap: break-word;\n",
              "    word-break: break-all;\n",
              "    font-family: \"Menlo\", \"Monaco\", \"Consolas\", \"Ubuntu Mono\", \"Source Code Pro\", monospace;\n",
              "    font-size: 13px;\n",
              "    color: #555;\n",
              "    margin-left: 4px;\n",
              "    line-height: 19px;\n",
              "  }\n",
              "</style>\n",
              "<div class=\"ansiout\">   PersonID    Name    Item  Quantity  Price      _merge\n",
              "0         1   Wikus     NaN       NaN    NaN   left_only\n",
              "1         2  Thandi     NaN       NaN    NaN   left_only\n",
              "2         3    Xeki     Egg       5.0  10.50        both\n",
              "3         3    Xeki  Potato      10.0  29.99        both\n",
              "4         4     NaN  Petrol      15.0   5.50  right_only\n",
              "</div>"
            ]
          },
          "metadata": {
            "application/vnd.databricks.v1+output": {
              "addedWidgets": {},
              "arguments": {},
              "data": "<div class=\"ansiout\">   PersonID    Name    Item  Quantity  Price      _merge\n0         1   Wikus     NaN       NaN    NaN   left_only\n1         2  Thandi     NaN       NaN    NaN   left_only\n2         3    Xeki     Egg       5.0  10.50        both\n3         3    Xeki  Potato      10.0  29.99        both\n4         4     NaN  Petrol      15.0   5.50  right_only\n</div>",
              "datasetInfos": [],
              "metadata": {},
              "removedWidgets": [],
              "type": "html"
            }
          }
        }
      ],
      "source": [
        "print(final_df)"
      ]
    },
    {
      "cell_type": "markdown",
      "metadata": {
        "application/vnd.databricks.v1+cell": {
          "cellMetadata": {
            "byteLimit": 2048000,
            "rowLimit": 10000
          },
          "inputWidgets": {},
          "nuid": "e8fd6b48-05b6-425e-be88-76b55cbbebfb",
          "showTitle": false,
          "title": ""
        }
      },
      "source": [
        "The validate parameter has four rules:\n",
        "- one_to_one = 1:1\n",
        "- one_to_many = 1:m\n",
        "- many_to_one = m:1\n",
        "- many_to_many = m:m"
      ]
    }
  ],
  "metadata": {
    "application/vnd.databricks.v1+notebook": {
      "dashboards": [],
      "language": "python",
      "notebookMetadata": {
        "pythonIndentUnit": 4
      },
      "notebookName": "02_pandas_merge_validate",
      "widgets": {}
    }
  },
  "nbformat": 4,
  "nbformat_minor": 0
}