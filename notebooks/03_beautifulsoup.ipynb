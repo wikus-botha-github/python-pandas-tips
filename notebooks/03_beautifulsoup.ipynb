{
  "cells": [
    {
      "cell_type": "markdown",
      "metadata": {
        "application/vnd.databricks.v1+cell": {
          "cellMetadata": {},
          "inputWidgets": {},
          "nuid": "d47d73f6-330e-43d2-9542-f6e4e9675d47",
          "showTitle": false,
          "title": ""
        },
        "id": "CplQZEjHv7Kh"
      },
      "source": [
        "# 🐍 Python + BeautifulSoup  🐍\n",
        "\n",
        "#### Basic web scraping using BeautifulSoup"
      ]
    },
    {
      "cell_type": "markdown",
      "metadata": {
        "application/vnd.databricks.v1+cell": {
          "cellMetadata": {},
          "inputWidgets": {},
          "nuid": "0278ab1f-9cc9-4d6a-84fb-9d83244b8ec5",
          "showTitle": false,
          "title": ""
        },
        "id": "C9BDE5h4v7Kn"
      },
      "source": [
        "BeautifulSoup is a Python library that makes it easy to scrape information from web pages."
      ]
    },
    {
      "cell_type": "code",
      "execution_count": null,
      "metadata": {
        "application/vnd.databricks.v1+cell": {
          "cellMetadata": {},
          "inputWidgets": {},
          "nuid": "1270702c-cc6e-4041-b96d-5f88609c1464",
          "showTitle": false,
          "title": ""
        },
        "id": "oGF5SR8Fv7Ko"
      },
      "outputs": [],
      "source": [
        "# pip install beautifulsoup4"
      ]
    },
    {
      "cell_type": "markdown",
      "metadata": {
        "application/vnd.databricks.v1+cell": {
          "cellMetadata": {},
          "inputWidgets": {},
          "nuid": "8d359467-a8a5-4245-9dda-2a9ab9c0e612",
          "showTitle": false,
          "title": ""
        },
        "id": "WFv5t0nTv7Ko"
      },
      "source": [
        "Import libraries"
      ]
    },
    {
      "cell_type": "code",
      "execution_count": 2,
      "metadata": {
        "application/vnd.databricks.v1+cell": {
          "cellMetadata": {},
          "inputWidgets": {},
          "nuid": "ea01e9ae-1fd5-4353-b42a-cfce72d24285",
          "showTitle": false,
          "title": ""
        },
        "id": "8KjvPr-sv7Ko"
      },
      "outputs": [],
      "source": [
        "import requests\n",
        "from bs4 import BeautifulSoup"
      ]
    },
    {
      "cell_type": "markdown",
      "metadata": {
        "application/vnd.databricks.v1+cell": {
          "cellMetadata": {},
          "inputWidgets": {},
          "nuid": "96698d9a-a2f3-4f69-8c32-a6389fdff61a",
          "showTitle": false,
          "title": ""
        },
        "id": "9nFa8TkKv7Ko"
      },
      "source": [
        "Get data and create BeautifulSoup object"
      ]
    },
    {
      "cell_type": "code",
      "execution_count": 3,
      "metadata": {
        "application/vnd.databricks.v1+cell": {
          "cellMetadata": {},
          "inputWidgets": {},
          "nuid": "ce7fba32-22d1-4bba-8c9f-7537309cb03a",
          "showTitle": false,
          "title": ""
        },
        "id": "-HJeTQaxv7Ko"
      },
      "outputs": [],
      "source": [
        "# Get weather data\n",
        "url = 'https://weather.com/en-ZA/weather/today/l/8a913940672d241ad78039070d93ab86d195e3939c9332e74b9ef518a0b92383'\n",
        "\n",
        "# Simulate browser visit\n",
        "headers = {\n",
        "    'User-Agent': 'Mozilla/5.0 (Windows NT 10.0; Win64; x64) AppleWebKit/537.36 (KHTML, like Gecko) Chrome/58.0.3029.110 Safari/537.3'\n",
        "}\n",
        "\n",
        "# Send GET request\n",
        "response = requests.get(url, headers=headers)\n",
        "\n",
        "# Create a BeautifulSoup object\n",
        "soup = BeautifulSoup(response.text, 'html.parser')"
      ]
    },
    {
      "cell_type": "markdown",
      "metadata": {
        "application/vnd.databricks.v1+cell": {
          "cellMetadata": {},
          "inputWidgets": {},
          "nuid": "ce59e30e-9777-40a0-b02f-4e5973f6016f",
          "showTitle": false,
          "title": ""
        },
        "id": "Zd9Silurv7Kp"
      },
      "source": [
        "Extract data"
      ]
    },
    {
      "cell_type": "code",
      "execution_count": 4,
      "metadata": {
        "application/vnd.databricks.v1+cell": {
          "cellMetadata": {},
          "inputWidgets": {},
          "nuid": "6ccb7cea-58b6-4071-8352-c2e05c6c4c49",
          "showTitle": false,
          "title": ""
        },
        "id": "JLHeQ6PYv7Kp"
      },
      "outputs": [],
      "source": [
        "temperature = soup.find('span', class_='CurrentConditions--tempValue--MHmYY').text\n",
        "weather_condition = soup.find('div', class_='CurrentConditions--phraseValue--mZC_p').text\n",
        "city = soup.find('h1', class_='CurrentConditions--location--1YWj_').text\n",
        "timestamp = soup.find('span', class_='CurrentConditions--timestamp--1ybTk').text"
      ]
    },
    {
      "cell_type": "markdown",
      "metadata": {
        "application/vnd.databricks.v1+cell": {
          "cellMetadata": {},
          "inputWidgets": {},
          "nuid": "5661e6ce-f630-4631-8417-56d240fe08a3",
          "showTitle": false,
          "title": ""
        },
        "id": "8JWy0fArv7Kp"
      },
      "source": [
        "Print output"
      ]
    },
    {
      "cell_type": "code",
      "execution_count": 5,
      "metadata": {
        "application/vnd.databricks.v1+cell": {
          "cellMetadata": {},
          "inputWidgets": {},
          "nuid": "6aaa4139-7e73-4cba-939f-aadf7a1bbd64",
          "showTitle": false,
          "title": ""
        },
        "colab": {
          "base_uri": "https://localhost:8080/"
        },
        "id": "3p1xkQBJv7Kp",
        "outputId": "1e35c28f-c73e-487e-d9ec-6f1653e685ad"
      },
      "outputs": [
        {
          "output_type": "stream",
          "name": "stdout",
          "text": [
            "City: Cape Town, Western Cape\n",
            "Timestamp: As of 19:08 SAST\n",
            "Temperature: 17°\n",
            "Weather Condition: Light Rain/Wind\n"
          ]
        }
      ],
      "source": [
        "print(f'City: {city}')\n",
        "print(f'Timestamp: {timestamp}')\n",
        "print(f'Temperature: {temperature}')\n",
        "print(f'Weather Condition: {weather_condition}')"
      ]
    }
  ],
  "metadata": {
    "application/vnd.databricks.v1+notebook": {
      "dashboards": [],
      "language": "python",
      "notebookMetadata": {
        "pythonIndentUnit": 4
      },
      "notebookName": "03_beautifulsoup",
      "widgets": {}
    },
    "colab": {
      "provenance": []
    },
    "language_info": {
      "name": "python"
    },
    "kernelspec": {
      "name": "python3",
      "display_name": "Python 3"
    }
  },
  "nbformat": 4,
  "nbformat_minor": 0
}
