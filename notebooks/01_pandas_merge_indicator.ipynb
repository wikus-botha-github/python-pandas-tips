{
  "metadata": {
    "application/vnd.databricks.v1+notebook": {
      "dashboards": [],
      "language": "python",
      "notebookMetadata": {
        "pythonIndentUnit": 4
      },
      "notebookName": "01_pandas_merge_indicator",
      "widgets": {}
    },
    "language_info": {
      "codemirror_mode": {
        "name": "python",
        "version": 3
      },
      "file_extension": ".py",
      "mimetype": "text/x-python",
      "name": "python",
      "nbconvert_exporter": "python",
      "pygments_lexer": "ipython3",
      "version": "3.8"
    },
    "kernelspec": {
      "name": "python",
      "display_name": "Python (Pyodide)",
      "language": "python"
    }
  },
  "nbformat_minor": 4,
  "nbformat": 4,
  "cells": [
    {
      "cell_type": "markdown",
      "source": "# 🐍 Python + Pandas 🐼\n\n#### Utilizing the Indicator Parameter in the Pandas Merge Function",
      "metadata": {
        "application/vnd.databricks.v1+cell": {
          "cellMetadata": {
            "byteLimit": 2048000,
            "rowLimit": 10000
          },
          "inputWidgets": {},
          "nuid": "a0846975-7795-4599-a864-462868b9f3e4",
          "showTitle": false,
          "title": ""
        }
      }
    },
    {
      "cell_type": "markdown",
      "source": "When merging DataFrames in Python, it’s often useful to know which DataFrame the merged data comes from.",
      "metadata": {
        "application/vnd.databricks.v1+cell": {
          "cellMetadata": {
            "byteLimit": 2048000,
            "rowLimit": 10000
          },
          "inputWidgets": {},
          "nuid": "7d781190-4acd-401d-91ab-29a2a1029670",
          "showTitle": false,
          "title": ""
        }
      }
    },
    {
      "cell_type": "code",
      "source": "import pandas as pd",
      "metadata": {
        "application/vnd.databricks.v1+cell": {
          "cellMetadata": {
            "byteLimit": 2048000,
            "rowLimit": 10000
          },
          "inputWidgets": {},
          "nuid": "052288b3-6f50-4bab-996c-06ea020f7193",
          "showTitle": false,
          "title": "Import pandas library"
        },
        "trusted": true
      },
      "execution_count": 1,
      "outputs": []
    },
    {
      "cell_type": "code",
      "source": "person_df = [\n    {\"PersonID\": 1, \"Name\": \"Wikus\"},\n    {\"PersonID\": 2, \"Name\": \"Thandi\"},\n    {\"PersonID\": 3, \"Name\": \"Xeki\"}\n]\n\nperson_df = pd.DataFrame(person_df)",
      "metadata": {
        "application/vnd.databricks.v1+cell": {
          "cellMetadata": {
            "byteLimit": 2048000,
            "rowLimit": 10000
          },
          "inputWidgets": {},
          "nuid": "416916e2-554a-4024-8114-7bcabe173696",
          "showTitle": false,
          "title": ""
        },
        "trusted": true
      },
      "execution_count": 2,
      "outputs": []
    },
    {
      "cell_type": "code",
      "source": "purchase_df = {\n    'PersonID': [3, 3, 4],\n    'Item': ['Egg', 'Potato', 'Petrol'],\n    'Quantity': [5, 10, 15],\n    'Price': [10.50, 29.99, 5.50]\n}\n\npurchase_df = pd.DataFrame(purchase_df)",
      "metadata": {
        "application/vnd.databricks.v1+cell": {
          "cellMetadata": {
            "byteLimit": 2048000,
            "rowLimit": 10000
          },
          "inputWidgets": {},
          "nuid": "0a3b4312-2896-4d24-bff2-347edf7c4470",
          "showTitle": false,
          "title": ""
        },
        "trusted": true
      },
      "execution_count": 3,
      "outputs": []
    },
    {
      "cell_type": "markdown",
      "source": "By using the 'indicator' parameter (set to True), an additional column called '_merge' is added to the output DataFrame.",
      "metadata": {
        "application/vnd.databricks.v1+cell": {
          "cellMetadata": {
            "byteLimit": 2048000,
            "rowLimit": 10000
          },
          "inputWidgets": {},
          "nuid": "be6b254d-30c4-4a77-9b5d-29da5505f0f1",
          "showTitle": false,
          "title": ""
        }
      }
    },
    {
      "cell_type": "code",
      "source": "final_df = pd.merge(\n    person_df,    \n    purchase_df,  \n    on=\"PersonID\", \n    how=\"outer\",\n    indicator=True\n)",
      "metadata": {
        "application/vnd.databricks.v1+cell": {
          "cellMetadata": {
            "byteLimit": 2048000,
            "rowLimit": 10000
          },
          "inputWidgets": {},
          "nuid": "cda7aac0-92d4-455e-a76a-a6889aa8d607",
          "showTitle": false,
          "title": ""
        },
        "trusted": true
      },
      "execution_count": 4,
      "outputs": []
    },
    {
      "cell_type": "code",
      "source": "print(final_df)",
      "metadata": {
        "application/vnd.databricks.v1+cell": {
          "cellMetadata": {
            "byteLimit": 2048000,
            "rowLimit": 10000
          },
          "inputWidgets": {},
          "nuid": "45f813ae-e794-4861-bc7e-5dbd847fa522",
          "showTitle": false,
          "title": ""
        },
        "trusted": true
      },
      "execution_count": 5,
      "outputs": [
        {
          "name": "stdout",
          "text": "   PersonID    Name    Item  Quantity  Price      _merge\n0         1   Wikus     NaN       NaN    NaN   left_only\n1         2  Thandi     NaN       NaN    NaN   left_only\n2         3    Xeki     Egg       5.0  10.50        both\n3         3    Xeki  Potato      10.0  29.99        both\n4         4     NaN  Petrol      15.0   5.50  right_only\n",
          "output_type": "stream"
        }
      ]
    },
    {
      "cell_type": "markdown",
      "source": "The '_merge' column can take three values:\n- left_only: if the record is only in the left DataFrame.\n- right_only: if the record is only in the right DataFrame.\n- both: if the record is in both DataFrames.",
      "metadata": {
        "application/vnd.databricks.v1+cell": {
          "cellMetadata": {
            "byteLimit": 2048000,
            "rowLimit": 10000
          },
          "inputWidgets": {},
          "nuid": "e8fd6b48-05b6-425e-be88-76b55cbbebfb",
          "showTitle": false,
          "title": ""
        }
      }
    }
  ]
}